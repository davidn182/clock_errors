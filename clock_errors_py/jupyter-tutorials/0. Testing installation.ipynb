{
 "cells": [
  {
   "cell_type": "code",
   "execution_count": 8,
   "id": "determined-chester",
   "metadata": {},
   "outputs": [],
   "source": [
    "import sys\n",
    "import os\n",
    "# Importing the main code.\n",
    "module_path = os.path.abspath(os.path.join('..'))\n",
    "if module_path not in sys.path:\n",
    "    sys.path.append(module_path)\n",
    "from main_adapted import Processing_parameters, Clock_drift\n",
    "import time"
   ]
  },
  {
   "cell_type": "markdown",
   "id": "fundamental-programmer",
   "metadata": {},
   "source": []
  },
  {
   "cell_type": "code",
   "execution_count": 7,
   "id": "utility-outside",
   "metadata": {},
   "outputs": [],
   "source": [
    "\n",
    "ext = '/Users/localadmin/Dropbox/GitHub/'\n",
    "# Parameters\n",
    "station_file = ext + \"station_info\"\n",
    "datadir = ext + \"data\"\n",
    "\n",
    "\n",
    "params = Processing_parameters(\n",
    "                 freqmin = 0.15, # Low freq. for the bandpass filter\n",
    "                 freqmax = 0.3, # High freq. for the bandpass filter \n",
    "                 ref_vel = 2500, # m/s\n",
    "                 dist_trh = 2.0, # Minimum station separation in terms of wavelength\n",
    "                 snr_trh = 10, # Signal-to-noise ratio threshold\n",
    "                 noise_st = 240, # start of the noise window.\n",
    "                 dt_err = 0.004, # Sampling interval needs to be multiple of this value.\n",
    "                 resp_details = False)\n",
    "#%%\n",
    "\n",
    "start_time = time.time()\n",
    "cd = Clock_drift(station_file, datadir, reference_time = '2014-08-21T00:00:00.000000Z', processing_parameters=params)\n",
    "print(\"---Initializing the Clock_drift object takes %s seconds ---\" % (time.time() - start_time))"
   ]
  },
  {
   "cell_type": "code",
   "execution_count": null,
   "id": "understanding-arrangement",
   "metadata": {},
   "outputs": [],
   "source": []
  }
 ],
 "metadata": {
  "kernelspec": {
   "display_name": "Python 3",
   "language": "python",
   "name": "python3"
  },
  "language_info": {
   "codemirror_mode": {
    "name": "ipython",
    "version": 3
   },
   "file_extension": ".py",
   "mimetype": "text/x-python",
   "name": "python",
   "nbconvert_exporter": "python",
   "pygments_lexer": "ipython3",
   "version": "3.7.10"
  }
 },
 "nbformat": 4,
 "nbformat_minor": 5
}
